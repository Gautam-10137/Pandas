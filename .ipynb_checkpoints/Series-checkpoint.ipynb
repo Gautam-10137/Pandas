{
 "cells": [
  {
   "cell_type": "code",
   "execution_count": 1,
   "id": "dc4ef2e1",
   "metadata": {},
   "outputs": [],
   "source": [
    "import numpy as np"
   ]
  },
  {
   "cell_type": "code",
   "execution_count": 2,
   "id": "0dc15c08",
   "metadata": {},
   "outputs": [],
   "source": [
    "import pandas as pd"
   ]
  },
  {
   "cell_type": "code",
   "execution_count": 5,
   "id": "2feadc1d",
   "metadata": {},
   "outputs": [],
   "source": [
    "# documentation for series\n",
    "# help(pd.Series)"
   ]
  },
  {
   "cell_type": "code",
   "execution_count": 6,
   "id": "e93e02e1",
   "metadata": {},
   "outputs": [],
   "source": [
    "#  1. initialize using list\n",
    "myIndex=['USA','INDIA','Canada']"
   ]
  },
  {
   "cell_type": "code",
   "execution_count": 7,
   "id": "7f835128",
   "metadata": {},
   "outputs": [],
   "source": [
    "myData=[1776,1947,1867]"
   ]
  },
  {
   "cell_type": "code",
   "execution_count": 11,
   "id": "24aa982d",
   "metadata": {},
   "outputs": [],
   "source": [
    "mySer=pd.Series(data=myData,index=myIndex)   # It will store basic numeric index as well"
   ]
  },
  {
   "cell_type": "code",
   "execution_count": 17,
   "id": "1f59b8e0",
   "metadata": {},
   "outputs": [
    {
     "data": {
      "text/plain": [
       "USA       1776\n",
       "INDIA     1947\n",
       "Canada    1867\n",
       "dtype: int64"
      ]
     },
     "execution_count": 17,
     "metadata": {},
     "output_type": "execute_result"
    }
   ],
   "source": [
    "mySer"
   ]
  },
  {
   "cell_type": "code",
   "execution_count": 15,
   "id": "518e5033",
   "metadata": {},
   "outputs": [
    {
     "data": {
      "text/plain": [
       "1776"
      ]
     },
     "execution_count": 15,
     "metadata": {},
     "output_type": "execute_result"
    }
   ],
   "source": [
    "mySer['USA']"
   ]
  },
  {
   "cell_type": "code",
   "execution_count": 16,
   "id": "f04d319a",
   "metadata": {},
   "outputs": [
    {
     "data": {
      "text/plain": [
       "1776"
      ]
     },
     "execution_count": 16,
     "metadata": {},
     "output_type": "execute_result"
    }
   ],
   "source": [
    "mySer[0]"
   ]
  },
  {
   "cell_type": "code",
   "execution_count": 18,
   "id": "d3734903",
   "metadata": {},
   "outputs": [],
   "source": [
    "# 2. using dictionary"
   ]
  },
  {
   "cell_type": "code",
   "execution_count": 19,
   "id": "3e80583b",
   "metadata": {},
   "outputs": [],
   "source": [
    "marks={'math':30,'physics':29,'bio':26}"
   ]
  },
  {
   "cell_type": "code",
   "execution_count": 24,
   "id": "9de5db56",
   "metadata": {},
   "outputs": [
    {
     "data": {
      "text/plain": [
       "math       30\n",
       "physics    29\n",
       "bio        26\n",
       "dtype: int64"
      ]
     },
     "execution_count": 24,
     "metadata": {},
     "output_type": "execute_result"
    }
   ],
   "source": [
    "pd.Series(marks)"
   ]
  },
  {
   "cell_type": "code",
   "execution_count": 25,
   "id": "876f44e6",
   "metadata": {},
   "outputs": [],
   "source": [
    "q1={'hisar':100,'Gurugram':200,'Rohtak':300,'Sirsa':400}"
   ]
  },
  {
   "cell_type": "code",
   "execution_count": 26,
   "id": "274662d7",
   "metadata": {},
   "outputs": [],
   "source": [
    "my_q1=pd.Series(q1)"
   ]
  },
  {
   "cell_type": "code",
   "execution_count": 27,
   "id": "82f0df4e",
   "metadata": {},
   "outputs": [
    {
     "data": {
      "text/plain": [
       "Index(['hisar', 'Gurugram', 'Rohtak', 'Sirsa'], dtype='object')"
      ]
     },
     "execution_count": 27,
     "metadata": {},
     "output_type": "execute_result"
    }
   ],
   "source": [
    "my_q1.keys()"
   ]
  },
  {
   "cell_type": "code",
   "execution_count": 28,
   "id": "ab0b6e38",
   "metadata": {},
   "outputs": [
    {
     "data": {
      "text/plain": [
       "100"
      ]
     },
     "execution_count": 28,
     "metadata": {},
     "output_type": "execute_result"
    }
   ],
   "source": [
    "my_q1['hisar']"
   ]
  },
  {
   "cell_type": "code",
   "execution_count": 31,
   "id": "511bec10",
   "metadata": {},
   "outputs": [
    {
     "data": {
      "text/plain": [
       "[1, 2, 1, 2]"
      ]
     },
     "execution_count": 31,
     "metadata": {},
     "output_type": "execute_result"
    }
   ],
   "source": [
    "[1,2]*2"
   ]
  },
  {
   "cell_type": "code",
   "execution_count": 32,
   "id": "ac299d1e",
   "metadata": {},
   "outputs": [
    {
     "data": {
      "text/plain": [
       "array([2, 4])"
      ]
     },
     "execution_count": 32,
     "metadata": {},
     "output_type": "execute_result"
    }
   ],
   "source": [
    "np.array([1,2])*2  # broadcast"
   ]
  },
  {
   "cell_type": "code",
   "execution_count": 33,
   "id": "119fa635",
   "metadata": {},
   "outputs": [
    {
     "data": {
      "text/plain": [
       "hisar       200\n",
       "Gurugram    400\n",
       "Rohtak      600\n",
       "Sirsa       800\n",
       "dtype: int64"
      ]
     },
     "execution_count": 33,
     "metadata": {},
     "output_type": "execute_result"
    }
   ],
   "source": [
    "# similar with pandas series (since it is built of numpy array)\n",
    "my_q1*2"
   ]
  },
  {
   "cell_type": "code",
   "execution_count": 46,
   "id": "c798ab62",
   "metadata": {},
   "outputs": [
    {
     "data": {
      "text/plain": [
       "dtype('int64')"
      ]
     },
     "execution_count": 46,
     "metadata": {},
     "output_type": "execute_result"
    }
   ],
   "source": [
    "q2={'hisar':200,'Ambala':300,'Rohtak':100,'Sirsa':200}\n",
    "my_q2=pd.Series(q2)\n",
    "my_q2.dtype"
   ]
  },
  {
   "cell_type": "code",
   "execution_count": 37,
   "id": "de41ae19",
   "metadata": {},
   "outputs": [
    {
     "data": {
      "text/plain": [
       "Ambala        NaN\n",
       "Gurugram      NaN\n",
       "Rohtak      400.0\n",
       "Sirsa       600.0\n",
       "hisar       300.0\n",
       "dtype: float64"
      ]
     },
     "execution_count": 37,
     "metadata": {},
     "output_type": "execute_result"
    }
   ],
   "source": [
    "# output by adding values of same index in both & nan for index not present in both series\n",
    "my_q1+my_q2       # values converted to float64"
   ]
  },
  {
   "cell_type": "code",
   "execution_count": 47,
   "id": "bdd52f96",
   "metadata": {},
   "outputs": [],
   "source": [
    "# to also have values of pair that is not present in both series\n",
    "first_half=my_q1.add(my_q2,fill_value=0)"
   ]
  },
  {
   "cell_type": "code",
   "execution_count": 48,
   "id": "0dfed7c8",
   "metadata": {},
   "outputs": [
    {
     "data": {
      "text/plain": [
       "dtype('float64')"
      ]
     },
     "execution_count": 48,
     "metadata": {},
     "output_type": "execute_result"
    }
   ],
   "source": [
    "first_half.dtype       # int to float in doing operation"
   ]
  },
  {
   "cell_type": "code",
   "execution_count": null,
   "id": "3d08fc81",
   "metadata": {},
   "outputs": [],
   "source": [
    "pd.Series()"
   ]
  }
 ],
 "metadata": {
  "kernelspec": {
   "display_name": "Python 3 (ipykernel)",
   "language": "python",
   "name": "python3"
  },
  "language_info": {
   "codemirror_mode": {
    "name": "ipython",
    "version": 3
   },
   "file_extension": ".py",
   "mimetype": "text/x-python",
   "name": "python",
   "nbconvert_exporter": "python",
   "pygments_lexer": "ipython3",
   "version": "3.11.4"
  }
 },
 "nbformat": 4,
 "nbformat_minor": 5
}
